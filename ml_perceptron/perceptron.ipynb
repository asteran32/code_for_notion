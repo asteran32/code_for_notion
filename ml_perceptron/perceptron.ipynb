{
 "cells": [
  {
   "cell_type": "markdown",
   "metadata": {},
   "source": [
    "# Perceptron"
   ]
  },
  {
   "cell_type": "code",
   "execution_count": 1,
   "metadata": {},
   "outputs": [],
   "source": [
    "import numpy as np\n",
    "from sklearn.datasets import load_iris\n",
    "import matplotlib.pyplot as plt"
   ]
  },
  {
   "cell_type": "code",
   "execution_count": 2,
   "metadata": {},
   "outputs": [],
   "source": [
    "class Network():\n",
    "    def __init__(self, threshold, lr, iter):\n",
    "        self._threshold = threshold\n",
    "        self._lr = lr\n",
    "        self._iter = iter\n",
    "    \n",
    "    def fit(self, X, y):\n",
    "        self._w = np.zeros(1+X.shape[1])\n",
    "        self.loss = []\n",
    "\n",
    "        for _ in range(self._iter):\n",
    "            error = 0\n",
    "            for xi, target in zip(X, y):\n",
    "                update = self._lr * (target - self.predict(xi))\n",
    "                self._w[1:] += update * xi \n",
    "                self._w[0] += update \n",
    "                error += int(update != 0.0)\n",
    "            self.loss.append(error)\n",
    "            print(self._w)\n",
    "        return self\n",
    "\n",
    "    def feed(self, X):\n",
    "        return np.dot(X, self._w[1:]) + self._w[0] # np.dot => matrics multifly\n",
    "\n",
    "    def predict(self, X):\n",
    "        return np.where(self.feed(X) > self._threshold, 1, -1)"
   ]
  },
  {
   "cell_type": "markdown",
   "metadata": {},
   "source": [
    "Iris 데이터셋 불러오기"
   ]
  },
  {
   "cell_type": "code",
   "execution_count": 3,
   "metadata": {},
   "outputs": [
    {
     "data": {
      "image/png": "[encoded data removed]",
      "text/plain": [
       "<Figure size 640x480 with 1 Axes>"
      ]
     },
     "metadata": {},
     "output_type": "display_data"
    }
   ],
   "source": [
    "iris = load_iris()\n",
    "X = iris.data[:100,[2,3]]\n",
    "y = iris.target[:100]\n",
    "y = np.where(y==0, -1, 1)\n",
    "\n",
    "# Draw plt\n",
    "plt.scatter(X[:50, 0], X[:50, 1], color='r', marker='o', label='setosa')\n",
    "plt.scatter(X[50:100, 0], X[50:100, 1], color='b', marker='x', label='versicolor')\n",
    "plt.title('Iris data')\n",
    "plt.xlabel('petal (cm)')\n",
    "plt.ylabel('calyx (cm)')\n",
    "plt.legend(loc=4)\n",
    "plt.show()"
   ]
  },
  {
   "cell_type": "code",
   "execution_count": 4,
   "metadata": {},
   "outputs": [
    {
     "name": "stdout",
     "output_type": "stream",
     "text": [
      "[0.02  0.094 0.028]\n",
      "[-0.04   0.012  0.016]\n",
      "[-0.04   0.012  0.016]\n",
      "[-0.04   0.012  0.016]\n",
      "[-0.04   0.012  0.016]\n",
      "[-0.04   0.012  0.016]\n",
      "[-0.04   0.012  0.016]\n",
      "[-0.04   0.012  0.016]\n",
      "[-0.04   0.012  0.016]\n",
      "[-0.04   0.012  0.016]\n",
      "[1, 3, 0, 0, 0, 0, 0, 0, 0, 0]\n"
     ]
    }
   ],
   "source": [
    "threshold = 0.0\n",
    "lr = 0.01\n",
    "iter = 10\n",
    "\n",
    "p = Network(threshold, lr, iter)\n",
    "p.fit(X, y)\n",
    "print(p.loss)"
   ]
  },
  {
   "cell_type": "code",
   "execution_count": 5,
   "metadata": {},
   "outputs": [
    {
     "name": "stdout",
     "output_type": "stream",
     "text": [
      "Iris-versicolor\n",
      "Iris-versicolor\n",
      "Iris-versicolor\n",
      "Iris-versicolor\n",
      "Iris-versicolor\n"
     ]
    }
   ],
   "source": [
    "test_X = iris.data[100:105, [2, 3]]\n",
    "test_y = iris.target[100:105]\n",
    "\n",
    "w1 = -0.04\n",
    "w2 = 0.012  \n",
    "w3 = 0.016\n",
    "\n",
    "for x, target in zip(test_X, test_y):\n",
    "    predit = w1 + w2*x[0] + w3*x[1]\n",
    "    print(\"Iris-setosa\" if predit <= 0 else \"Iris-versicolor\")\n"
   ]
  },
  {
   "cell_type": "markdown",
   "metadata": {},
   "source": [
    "sklearn 패키지로 perceptron 불러와 학습"
   ]
  },
  {
   "cell_type": "code",
   "execution_count": 6,
   "metadata": {},
   "outputs": [
    {
     "name": "stdout",
     "output_type": "stream",
     "text": [
      "Total : 30\n",
      "Acurracy : 0.90\n"
     ]
    }
   ],
   "source": [
    "from pyexpat.errors import XML_ERROR_PARTIAL_CHAR\n",
    "from sklearn.linear_model import Perceptron\n",
    "from sklearn.model_selection import train_test_split\n",
    "from sklearn.preprocessing import StandardScaler\n",
    "from sklearn.metrics import accuracy_score\n",
    "\n",
    "X = iris.data[:, [2, 3]]\n",
    "y = iris.target[:]\n",
    "\n",
    "X_train, X_test, y_train, y_test = train_test_split(X, y, test_size=0.2, random_state=0)\n",
    "\n",
    "sc = StandardScaler()\n",
    "sc.fit(X_train) # X_train의 평균과 표준편차를 구함\n",
    "\n",
    "X_train_std = sc.transform(X_train)\n",
    "X_test_std = sc.transform(X_test)\n",
    "\n",
    "ml = Perceptron(eta0=0.01, max_iter=20, random_state=0)\n",
    "ml.fit(X_train_std, y_train)\n",
    "\n",
    "y_pred = ml.predict(X_test_std)\n",
    "\n",
    "print(f'Total : %d' %(len(y_test)))\n",
    "print(f'Acurracy : %.2f' %accuracy_score(y_test, y_pred))"
   ]
  }
 ],
 "metadata": {
  "kernelspec": {
   "display_name": "Python 3.9.13 64-bit",
   "language": "python",
   "name": "python3"
  },
  "language_info": {
   "codemirror_mode": {
    "name": "ipython",
    "version": 3
   },
   "file_extension": ".py",
   "mimetype": "text/x-python",
   "name": "python",
   "nbconvert_exporter": "python",
   "pygments_lexer": "ipython3",
   "version": "3.9.13"
  },
  "orig_nbformat": 4,
  "vscode": {
   "interpreter": {
    "hash": "3045cf70b3ee60d1cf4ace38e6b4a3dc2d51dd6e9a959e9a5fdd93eb7a510b93"
   }
  }
 },
 "nbformat": 4,
 "nbformat_minor": 2
}
